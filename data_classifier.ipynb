{
 "cells": [
  {
   "cell_type": "markdown",
   "id": "09bc4e1f",
   "metadata": {},
   "source": [
    "# Tester Function"
   ]
  },
  {
   "cell_type": "code",
   "execution_count": null,
   "id": "ec1a0ef0",
   "metadata": {},
   "outputs": [],
   "source": []
  },
  {
   "cell_type": "code",
   "execution_count": 1,
   "id": "fe4331c6",
   "metadata": {},
   "outputs": [],
   "source": [
    "import pickle\n",
    "import sys\n",
    "from sklearn.model_selection import StratifiedShuffleSplit\n",
    "sys.path.append(\"../tools/\")\n",
    "from ipynb.fs.full.feature_format import featureFormat, targetFeatureSplit\n",
    "from sklearn import metrics"
   ]
  },
  {
   "cell_type": "code",
   "execution_count": 2,
   "id": "f1fbbc6e",
   "metadata": {},
   "outputs": [],
   "source": [
    "PERF_FORMAT_STRING = \"\\\n",
    "\\nAccuracy: {:>0.{display_precision}f}\\nPrecision: {:>0.{display_precision}f}\\n\\\n",
    "Recall: {:>0.{display_precision}f}\\nF1: {:>0.{display_precision}f}\\nF2: {:>0.{display_precision}f}\"\n",
    "RESULTS_FORMAT_STRING = \"\\nTotal predictions: {:4d}\\nTrue positives: {:4d}\\nFalse positives: {:4d}\\\n",
    "\\nFalse negatives: {:4d}\\nTrue negatives: {:4d}\""
   ]
  },
  {
   "cell_type": "code",
   "execution_count": 4,
   "id": "54be8771",
   "metadata": {},
   "outputs": [],
   "source": [
    "def test_classifier(clf, dataset, feature_list, folds = 1000):\n",
    "    data = featureFormat(dataset, feature_list, sort_keys = True)\n",
    "    labels, features = targetFeatureSplit(data)\n",
    "    #cv = StratifiedShuffleSplit(labels, folds, random_state = 42)\n",
    "    cv = StratifiedShuffleSplit(n_splits=folds, random_state = 42)\n",
    "    true_negatives = 0\n",
    "    false_negatives = 0\n",
    "    true_positives = 0\n",
    "    false_positives = 0\n",
    "    prediction_array = []\n",
    "    label_array = []\n",
    "    for train_idx, test_idx in cv.split(features, labels):\n",
    "        features_train = []\n",
    "        features_test  = []\n",
    "        labels_train   = []\n",
    "        labels_test    = []\n",
    "        for ii in train_idx:\n",
    "            features_train.append( features[ii] )\n",
    "            labels_train.append( labels[ii] )\n",
    "        for jj in test_idx:\n",
    "            features_test.append( features[jj] )\n",
    "            labels_test.append( labels[jj] )\n",
    "        \n",
    "        ### fit the classifier using training set, and test on test set\n",
    "        clf.fit(features_train, labels_train)\n",
    "        predictions = clf.predict(features_test)\n",
    "        \n",
    "        for prediction, truth in zip(predictions, labels_test):\n",
    "            prediction_array.append(prediction)\n",
    "            label_array.append(truth)\n",
    "            if prediction == 0 and truth == 0:\n",
    "                true_negatives += 1\n",
    "            elif prediction == 0 and truth == 1:\n",
    "                false_negatives += 1\n",
    "            elif prediction == 1 and truth == 0:\n",
    "                false_positives += 1\n",
    "            elif prediction == 1 and truth == 1:\n",
    "                true_positives += 1\n",
    "            else:\n",
    "                print (\"Warning: Found a predicted label not == 0 or 1.\")\n",
    "                print (\"All predictions should take value 0 or 1.\")\n",
    "                print (\"Evaluating performance for processed predictions:\")\n",
    "                break\n",
    "    \n",
    "    confusion_matrix = metrics.confusion_matrix(prediction_array,label_array)\n",
    "    cm_display = metrics.ConfusionMatrixDisplay(confusion_matrix = confusion_matrix, display_labels = [False, True])\n",
    "    cm_display.plot()\n",
    "    \n",
    "    try:\n",
    "        total_predictions = true_negatives + false_negatives + false_positives + true_positives\n",
    "        accuracy = 1.0*(true_positives + true_negatives)/total_predictions\n",
    "        precision = 1.0*true_positives/(true_positives+false_positives)\n",
    "        recall = 1.0*true_positives/(true_positives+false_negatives)\n",
    "        #f1 = 2.0 * true_positives/(2*true_positives + false_positives+false_negatives)\n",
    "        f1 = (2.0 * precision * recall)/(precision + recall)\n",
    "        f2 = (1+2.0*2.0) * precision*recall/(4*precision + recall)\n",
    "        print (clf)\n",
    "        print (PERF_FORMAT_STRING.format(accuracy, precision, recall, f1, f2, display_precision = 5))\n",
    "        print (RESULTS_FORMAT_STRING.format(total_predictions, true_positives, false_positives, false_negatives, true_negatives))\n",
    "        \n",
    "    except:\n",
    "        print (\"Got a divide by zero when trying out:\", clf)\n",
    "        print (\"Precision or recall may be undefined due to a lack of true positive predicitons.\")"
   ]
  },
  {
   "cell_type": "code",
   "execution_count": 5,
   "id": "831482b5",
   "metadata": {},
   "outputs": [],
   "source": [
    "CLF_PICKLE_FILENAME = \"my_classifier.pkl\"\n",
    "DATASET_PICKLE_FILENAME = \"my_dataset.pkl\"\n",
    "FEATURE_LIST_FILENAME = \"my_feature_list.pkl\""
   ]
  },
  {
   "cell_type": "code",
   "execution_count": 6,
   "id": "d4fec713",
   "metadata": {},
   "outputs": [],
   "source": [
    "def dump_classifier_and_data(clf, dataset, feature_list):\n",
    "    with open(CLF_PICKLE_FILENAME, \"wb\") as clf_outfile:\n",
    "        pickle.dump(clf, clf_outfile)\n",
    "    with open(DATASET_PICKLE_FILENAME, \"wb\") as dataset_outfile:\n",
    "        pickle.dump(dataset, dataset_outfile)\n",
    "    with open(FEATURE_LIST_FILENAME, \"wb\") as featurelist_outfile:\n",
    "        pickle.dump(feature_list, featurelist_outfile)\n",
    "\n"
   ]
  },
  {
   "cell_type": "code",
   "execution_count": 7,
   "id": "d730d4d5",
   "metadata": {},
   "outputs": [],
   "source": [
    "def load_classifier_and_data():\n",
    "    with open(CLF_PICKLE_FILENAME, \"rb\") as clf_infile:\n",
    "        clf = pickle.load(clf_infile)\n",
    "    with open(DATASET_PICKLE_FILENAME, \"rb\") as dataset_infile:\n",
    "        dataset = pickle.load(dataset_infile)\n",
    "    with open(FEATURE_LIST_FILENAME, \"rb\") as featurelist_infile:\n",
    "        feature_list = pickle.load(featurelist_infile)\n",
    "    return clf, dataset, feature_list\n",
    "\n"
   ]
  },
  {
   "cell_type": "code",
   "execution_count": 8,
   "id": "e9047354",
   "metadata": {},
   "outputs": [
    {
     "name": "stdout",
     "output_type": "stream",
     "text": [
      "KNeighborsClassifier(n_jobs=1, n_neighbors=6, weights='distance')\n",
      "\n",
      "Accuracy: 0.89257\n",
      "Precision: 0.72794\n",
      "Recall: 0.39600\n",
      "F1: 0.51295\n",
      "F2: 0.43574\n",
      "\n",
      "Total predictions: 14000\n",
      "True positives:  792\n",
      "False positives:  296\n",
      "False negatives: 1208\n",
      "True negatives: 11704\n"
     ]
    },
    {
     "data": {
      "image/png": "[encoded data removed]",
      "text/plain": [
       "<Figure size 640x480 with 2 Axes>"
      ]
     },
     "metadata": {},
     "output_type": "display_data"
    }
   ],
   "source": [
    "def main():\n",
    "    ### load up student's classifier, dataset, and feature_list\n",
    "    clf, dataset, feature_list = load_classifier_and_data()\n",
    "    ### Run testing script\n",
    "    test_classifier(clf, dataset, feature_list)\n",
    "\n",
    "if __name__ == '__main__':\n",
    "    main()"
   ]
  },
  {
   "cell_type": "code",
   "execution_count": null,
   "id": "04b3ddcc",
   "metadata": {},
   "outputs": [],
   "source": []
  },
  {
   "cell_type": "code",
   "execution_count": null,
   "id": "f4c9acb9",
   "metadata": {},
   "outputs": [],
   "source": []
  }
 ],
 "metadata": {
  "kernelspec": {
   "display_name": "Python 3 (ipykernel)",
   "language": "python",
   "name": "python3"
  },
  "language_info": {
   "codemirror_mode": {
    "name": "ipython",
    "version": 3
   },
   "file_extension": ".py",
   "mimetype": "text/x-python",
   "name": "python",
   "nbconvert_exporter": "python",
   "pygments_lexer": "ipython3",
   "version": "3.10.13"
  }
 },
 "nbformat": 4,
 "nbformat_minor": 5
}
