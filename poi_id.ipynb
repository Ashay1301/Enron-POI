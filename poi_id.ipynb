{
 "cells": [
  {
   "cell_type": "code",
   "execution_count": 32,
   "id": "b97000c8",
   "metadata": {},
   "outputs": [],
   "source": [
    "import sys\n",
    "import pickle\n",
    "import collections\n",
    "import numpy as np\n",
    "import pandas as pd\n",
    "from ipynb.fs.full.feature_format import featureFormat, targetFeatureSplit\n",
    "from ipynb.fs.full.data_classifier import dump_classifier_and_data\n",
    "from sklearn import preprocessing\n",
    "from sklearn.model_selection import train_test_split\n"
   ]
  },
  {
   "cell_type": "markdown",
   "id": "37ea55e6",
   "metadata": {},
   "source": [
    "Importing Classifiers to implement"
   ]
  },
  {
   "cell_type": "code",
   "execution_count": 51,
   "id": "1ad9d215",
   "metadata": {},
   "outputs": [],
   "source": [
    "from sklearn.naive_bayes import GaussianNB                   \n",
    "from sklearn.ensemble import RandomForestClassifier          \n",
    "from sklearn.neighbors import KNeighborsClassifier           \n",
    "from sklearn.ensemble import GradientBoostingClassifier \n",
    "from sklearn.svm import SVC\n",
    "from sklearn.ensemble import ExtraTreesClassifier\n",
    "from sklearn.ensemble import AdaBoostClassifier\n",
    "from sklearn.linear_model import LogisticRegression\n",
    "from sklearn.svm import LinearSVC"
   ]
  },
  {
   "cell_type": "code",
   "execution_count": 41,
   "id": "8a212ded",
   "metadata": {},
   "outputs": [],
   "source": [
    "#Experiments:\n",
    "#features_list = ['poi','salary','exercised_stock_options', 'bonus', 'deferred_income', 'long_term_incentive'] \n",
    "#features_list = ['poi','salary', 'expenses', 'loan_advances', 'from_this_person_to_poi', 'from_poi_to_this_person']\n",
    "#features_list = ['poi','salary', 'shared_receipt_with_poi', 'restricted_stock_deferred', 'from_this_person_to_poi', 'from_poi_to_this_person']\n",
    "#features_list = ['poi','salary', 'director_fees', 'long_term_incentive', 'from_this_person_to_poi', 'from_poi_to_this_person']\n",
    "#features_list = ['poi','total_stock_value', 'expenses', 'loan_advances', 'from_this_person_to_poi', 'from_poi_to_this_person']\n",
    "\n",
    "\n",
    "#Best with only original features:\n",
    "#features_list = ['poi','salary','exercised_stock_options', 'bonus', 'from_this_person_to_poi', 'from_poi_to_this_person'] \n",
    "\n",
    "#Best with addition of new feature:\n",
    "features_list = ['poi','salary','exercised_stock_options', 'bonus', 'from_this_person_to_poi', 'from_poi_to_this_person', 'restricted_stock_ratio'] "
   ]
  },
  {
   "cell_type": "code",
   "execution_count": 35,
   "id": "7f1d02bf",
   "metadata": {},
   "outputs": [],
   "source": [
    "#Loading the dictionary containing the data file \n",
    "\n",
    "with open(\"final_project_dataset.pkl\", \"rb\") as data_file:\n",
    "    data_dict = pickle.load(data_file)"
   ]
  },
  {
   "cell_type": "code",
   "execution_count": 36,
   "id": "323ecf95",
   "metadata": {},
   "outputs": [
    {
     "data": {
      "text/plain": [
       "{'salary': 26704229,\n",
       " 'to_messages': 'NaN',\n",
       " 'deferral_payments': 32083396,\n",
       " 'total_payments': 309886585,\n",
       " 'loan_advances': 83925000,\n",
       " 'bonus': 97343619,\n",
       " 'email_address': 'NaN',\n",
       " 'restricted_stock_deferred': -7576788,\n",
       " 'deferred_income': -27992891,\n",
       " 'total_stock_value': 434509511,\n",
       " 'expenses': 5235198,\n",
       " 'from_poi_to_this_person': 'NaN',\n",
       " 'exercised_stock_options': 311764000,\n",
       " 'from_messages': 'NaN',\n",
       " 'other': 42667589,\n",
       " 'from_this_person_to_poi': 'NaN',\n",
       " 'poi': False,\n",
       " 'long_term_incentive': 48521928,\n",
       " 'shared_receipt_with_poi': 'NaN',\n",
       " 'restricted_stock': 130322299,\n",
       " 'director_fees': 1398517}"
      ]
     },
     "execution_count": 36,
     "metadata": {},
     "output_type": "execute_result"
    }
   ],
   "source": [
    "data_dict.pop('THE TRAVEL AGENCY IN THE PARK', 0) ### Clearly not a person \n",
    "data_dict.pop('TOTAL', 0) ### Not applicable, so we should remove"
   ]
  },
  {
   "cell_type": "code",
   "execution_count": 37,
   "id": "8d0e3cab",
   "metadata": {},
   "outputs": [],
   "source": [
    "for employee in data_dict:\n",
    "    if round(float(data_dict[employee]['restricted_stock']) / float(data_dict[employee]['total_stock_value']), 2) > 0:\n",
    "        data_dict[employee]['restricted_stock_ratio'] = round(float(data_dict[employee]['restricted_stock']) / float(data_dict[employee]['total_stock_value']), 2)\n",
    "    else: \n",
    "        data_dict[employee]['restricted_stock_ratio'] = 0\n",
    "### ^^^Add'restricted_stock_ratio' feature to the data dictionary by calculating the ratio of restricted_stock to total_stock_value^^^"
   ]
  },
  {
   "cell_type": "code",
   "execution_count": 38,
   "id": "332df8b0",
   "metadata": {},
   "outputs": [
    {
     "name": "stdout",
     "output_type": "stream",
     "text": [
      "Number of people in the Enron dataset: 144\n"
     ]
    }
   ],
   "source": [
    "print('Number of people in the Enron dataset: {0}'.format(len(data_dict)))"
   ]
  },
  {
   "cell_type": "code",
   "execution_count": 39,
   "id": "de427914",
   "metadata": {},
   "outputs": [],
   "source": [
    "final_dataset = data_dict"
   ]
  },
  {
   "cell_type": "code",
   "execution_count": 42,
   "id": "b991d43b",
   "metadata": {},
   "outputs": [],
   "source": [
    "labels, features = targetFeatureSplit(featureFormat(final_dataset, features_list, sort_keys=True))\n",
    "features = preprocessing.MinMaxScaler().fit_transform(features)\n"
   ]
  },
  {
   "cell_type": "code",
   "execution_count": 60,
   "id": "7004a80b",
   "metadata": {},
   "outputs": [],
   "source": [
    "\n",
    "#clf = GaussianNB()\n",
    "\n",
    "#clf = RandomForestClassifier(n_estimators=10) \n",
    "\n",
    "clf = KNeighborsClassifier(n_neighbors=6, weights='distance', algorithm='auto', leaf_size=30, p=2, metric='minkowski', metric_params=None, n_jobs=1)\n",
    "\n",
    "#clf = GradientBoostingClassifier(n_estimators=100, learning_rate=1.0, max_depth=1, random_state=0)\n",
    "\n",
    "#clf = SVC()\n",
    "\n",
    "#clf = ExtraTreesClassifier(n_estimators=10, max_depth=None, min_samples_split=2, random_state=0)\n",
    "\n",
    "#clf = AdaBoostClassifier(n_estimators=100)\n",
    "\n",
    "#clf = LogisticRegression()\n",
    "\n",
    "#clf = LinearSVC()"
   ]
  },
  {
   "cell_type": "code",
   "execution_count": 61,
   "id": "a9cbfbc7",
   "metadata": {},
   "outputs": [],
   "source": [
    "dump_classifier_and_data(clf, final_dataset, features_list)"
   ]
  },
  {
   "cell_type": "code",
   "execution_count": null,
   "id": "177b3572",
   "metadata": {},
   "outputs": [],
   "source": []
  }
 ],
 "metadata": {
  "kernelspec": {
   "display_name": "Python 3 (ipykernel)",
   "language": "python",
   "name": "python3"
  },
  "language_info": {
   "codemirror_mode": {
    "name": "ipython",
    "version": 3
   },
   "file_extension": ".py",
   "mimetype": "text/x-python",
   "name": "python",
   "nbconvert_exporter": "python",
   "pygments_lexer": "ipython3",
   "version": "3.10.13"
  }
 },
 "nbformat": 4,
 "nbformat_minor": 5
}
